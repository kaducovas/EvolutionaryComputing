{
 "cells": [
  {
   "cell_type": "markdown",
   "metadata": {},
   "source": [
    "# UFRJ / COPPE / Programa de Engenharia Eletrica\n",
    "# CPE-723 – Otimizacao Natural (Parte II - Simulated Annealing)\n",
    "# Lista de Exercicios #4\n",
    "# Carlos Eduardo Covas Costa"
   ]
  },
  {
   "cell_type": "code",
   "execution_count": 51,
   "metadata": {
    "collapsed": true
   },
   "outputs": [],
   "source": [
    "import random\n",
    "from random import randint\n",
    "import math\n",
    "import numpy as np\n",
    "import matplotlib.pyplot as plt\n",
    "import scipy.stats as ss\n",
    "import itertools"
   ]
  },
  {
   "cell_type": "markdown",
   "metadata": {},
   "source": [
    "# 1"
   ]
  },
  {
   "cell_type": "code",
   "execution_count": 374,
   "metadata": {
    "collapsed": false
   },
   "outputs": [],
   "source": [
    "def decode(genotipos_array,comprimento_string):\n",
    "    fenotipos=[]\n",
    "    row,column = genotipos_array.shape\n",
    "    for r in range(row):\n",
    "        fenotipo = int(''.join(map(str, genotipos_array[r,1:])), 2)\n",
    "        if inicializacao[r,0]:\n",
    "            fenotipo *= -1\n",
    "        fenotipo = 2*float(fenotipo)/float(2**(comprimento_string-1))\n",
    "        fenotipos.append(fenotipo) \n",
    "    return fenotipos\n",
    "def fitness(fenotipos):\n",
    "    aptidoes=[]\n",
    "    for i in range(len(fenotipos)):\n",
    "        x = fenotipos[i]\n",
    "        aptidao=x**2 - 0.3*math.cos(10*math.pi*x)\n",
    "        aptidoes.append(aptidao)\n",
    "    return aptidoes\n",
    "def prob_linear(rank_position,s,populacao):\n",
    "    p = float(2-s)/float(populacao) + float(2*rank_position*(s-1))/float(populacao*(populacao-1))\n",
    "    return p \n",
    "def mutation(descendentes):\n",
    "    row,column = descendentes.shape\n",
    "    prob_mut = float(1/column) ###mutation bit-flip with probability pm 1/L\n",
    "    for r in range(row):\n",
    "        for c in range(column):\n",
    "            r = np.random.random()\n",
    "            if(r < prob_mut):\n",
    "                if(descendentes[r][c] == 0):\n",
    "                    descendentes[r][c] = 1\n",
    "                else:\n",
    "                    descendentes[r][c] = 0\n",
    "    return descendentes"
   ]
  },
  {
   "cell_type": "code",
   "execution_count": 435,
   "metadata": {
    "collapsed": false
   },
   "outputs": [
    {
     "name": "stdout",
     "output_type": "stream",
     "text": [
      "Rodada: 1\n",
      "Min: -0.17515425411629135, Mean: 0.819961882683, Max: 3.1603073449379604\n",
      "[3.1367493088222074, -0.11663030476384856, 0.05754633134769491, 0.44228902734244113, 1.4829891395192678, -0.01701489477656426, 1.113343001956073, 1.0080389353018755, 0.15865174110134883, -0.13911637745975114, 0.7480611571913549, 2.5105207860318344, 0.2767627783408667, -0.17515425411629135, 1.4716453340407916, 3.084526283022662, 1.0589800197208767, 0.20262603503340768, 0.8918512032312689, 0.7249114109212133, 0.3202352756416842, 0.0632669831846829, 1.480150428074699, 1.482480170245574, 0.6924719034292678, 0.6924719034292678, -0.1532958835501592, 0.42127561081044496, -0.05706858687777577, 0.6498922586632564, 0.42440299437989054, 3.1603073449379604, 0.7487510835169136, 0.7487510835169136, -0.006915333980669481, 0.46556295488174537, 0.842538990311086, 1.9243767472042221, 0.42127561081044496, 2.3074434364764063, 0.3202352756416842, 0.27242406910443684, 2.008626308050297, 0.5254030791030688, 0.15428408031964147, 0.41812429222689385, 0.4203776480696806, 1.4829891395192678, 0.42127561081044496, 0.42440299437989054]\n",
      "-0.17515425411629135\n",
      "Rodada: 2\n",
      "Min: -0.25900299563069856, Mean: 0.288881131211, Max: 2.3074434364764063\n",
      "[-0.21216172120741653, 0.3202352756416842, -0.13673812481317726, 0.33039241565517075, 0.42127561081044496, 0.4203776480696806, -0.17515425411629135, -0.1532958835501592, 0.19821509692857703, -0.1722782878003372, -0.13726178304899964, 0.07640151226734737, -0.25900299563069856, 0.4462660096105344, 0.056976947084882795, 0.31987308677141113, -0.1532958835501592, -0.01701489477656426, 0.44889763240588076, 0.19884518236615217, -0.06048058372806789, 1.4699157478993001, 1.4829891395192678, 0.42127561081044496, 0.04013408237012739, -0.10898107510617472, 0.29838826882741065, 1.1076362687550874, -0.11821800221736933, 0.42127561081044496, 2.3074434364764063, 0.27242406910443684, 0.20262603503340768, 0.20262603503340768, 0.5254030791030688, 0.42440299437989054, 0.42127561081044496, 0.41812429222689385, 0.6924719034292678, 0.6498922586632564, -0.17019926463742094, 0.0023364937752158588, 0.3837800737805799, -0.13519085747321635, 0.15865174110134883, -0.01701489477656426, 0.3202352756416842, 0.3202352756416842, -0.1528468964759777, 0.8418922426398798]\n",
      "-0.25900299563069856\n",
      "Rodada: 3\n",
      "Min: -0.2981978329097052, Mean: 0.0750028385777, Max: 1.7547868445126458\n",
      "[1.7547868445126458, 0.07640151226734737, -0.17019926463742094, 0.20262603503340768, -0.1532958835501592, -0.11821800221736933, -0.17392667492117805, -0.15149539620697575, 0.11057514199966849, -0.07401516175740769, -0.1722782878003372, -0.11821800221736933, -0.15239715185889624, -0.2588950613447984, -0.11663030476384856, 0.12045825331533977, 0.32059668191088897, -0.1367469825324286, -0.2981978329097052, 0.018456784154951167, 0.07640151226734737, -0.1722782878003372, -0.18038651321621924, -0.1305297700109738, -0.11663030476384856, 0.40714702735529384, 0.5255150540435093, 0.10403163258986836, 0.0023364937752158588, 0.33039241565517075, 0.19884518236615217, 0.1580273088878711, -0.0765886758539786, 0.36283000883889566, -0.16469863158784703, 0.30358001369886856, 0.747654751219029, -0.13726178304899964, -0.19299657099079787, 0.4467157268812457, 0.10262016770527363, 0.3498663100115075, -0.17392667492117805, 0.3825871616973393, 0.19506503951851803, -0.11708921642013581, -0.11663030476384856, 0.12079975172251556, 0.15865174110134883, -0.1532958835501592]\n",
      "-0.2981978329097052\n",
      "Rodada: 4\n",
      "Min: -0.2981978329097052, Mean: -0.0721801005013, Max: 0.5198977918161932\n",
      "[0.5198977918161932, 0.12045825331533977, 0.4237661989238549, -0.06845449770560484, -0.16767748186160758, 0.03737380872193424, -0.2981978329097052, -0.13726178304899964, -0.1532958835501592, 0.07640151226734737, 0.10262016770527363, 0.07640151226734737, -0.17019926463742094, -0.1367469825324286, -0.16469863158784703, -0.16469863158784703, -0.1722782878003372, -0.17392667492117805, -0.11616717393793335, 0.3805542416243281, -0.1163992664148944, -0.1377760670083071, -0.07401516175740769, -0.2981978329097052, -0.16767748186160758, 0.010578685020574408, -0.1367469825324286, -0.17019926463742094, -0.17019926463742094, -0.1722782878003372, -0.16469863158784703, 0.11057514199966849, -0.11663030476384856, 0.12079975172251556, -0.10335637049123247, -0.17515425411629135, -0.1163992664148944, -0.15374411153215164, 0.10262016770527363, -0.17392667492117805, 0.0023364937752158588, -0.11708921642013581, -0.15149539620697575, -0.1532958835501592, -0.29023125263872146, -0.18038651321621924, -0.11522827619191395, -0.13726178304899964, -0.2981978329097052, 0.12079975172251556]\n",
      "-0.2981978329097052\n",
      "Rodada: 5\n",
      "Min: -0.2982604523255804, Mean: -0.150385814945, Max: 0.5067569890695791\n",
      "[0.5067569890695791, -0.29728341589765234, 0.08063572408029465, -0.11821800221736933, -0.13726178304899964, -0.2981978329097052, -0.1268701344984062, -0.056818471793110364, -0.15374411153215164, -0.1367469825324286, -0.16469863158784703, -0.16767748186160758, -0.1672543460564641, -0.17798933941651945, -0.16469863158784703, -0.17019926463742094, -0.1722782878003372, -0.0754913129796585, -0.17019926463742094, -0.2981978329097052, -0.2981978329097052, -0.16767748186160758, -0.1755617804135526, -0.28963823280642825, -0.16469863158784703, -0.1722782878003372, -0.17758684828788285, -0.1123108907207242, -0.18038651321621924, -0.16469863158784703, -0.1722782878003372, -0.18038651321621924, -0.1377760670083071, -0.1377760670083071, -0.13726178304899964, -0.2982604523255804, -0.2970459620105835, -0.18038651321621924, -0.1672543460564641, -0.14085081817664505, -0.16037539518754582, 0.07989647963010654, -0.17019926463742094, -0.17019926463742094, -0.28963823280642825, 0.00850228446259571, -0.13726178304899964, -0.17019926463742094, -0.1377760670083071, -0.1532958835501592]\n",
      "-0.2982604523255804\n"
     ]
    },
    {
     "name": "stderr",
     "output_type": "stream",
     "text": [
      "/Users/carloseduardocovascosta/anaconda/envs/py36/lib/python3.6/site-packages/ipykernel/__main__.py:28: VisibleDeprecationWarning: using a non-integer number instead of an integer will result in an error in the future\n",
      "/Users/carloseduardocovascosta/anaconda/envs/py36/lib/python3.6/site-packages/ipykernel/__main__.py:31: VisibleDeprecationWarning: using a non-integer number instead of an integer will result in an error in the future\n",
      "/Users/carloseduardocovascosta/anaconda/envs/py36/lib/python3.6/site-packages/ipykernel/__main__.py:29: VisibleDeprecationWarning: using a non-integer number instead of an integer will result in an error in the future\n"
     ]
    }
   ],
   "source": [
    "###inicializacao\n",
    "geracoes = 5\n",
    "populacao = 50\n",
    "comprimento_string = 16\n",
    "inicializacao = np.random.randint(0,2,size=(populacao, comprimento_string))\n",
    "genotipos = inicializacao\n",
    "#print(genotipos)\n",
    "mate_size = populacao ###geracional\n",
    "descendente_size = populacao ###geracional\n",
    "#descendentes = np.zeros(shape=(descendente_size,comprimento_string))\n",
    "descendentes = np.random.randint(0,1,size=(descendente_size,comprimento_string))\n",
    "#mate_pool = np.zeros(shape=(mate_size,comprimento_string))\n",
    "mate_pool = np.random.randint(0,1,size=(mate_size,comprimento_string))\n",
    "#print(descendentes)\n",
    "#mate_pool = np.zeros(size=(mate_size,1))\n",
    "###offset = 4 # para acharmos o minimo ao maximizarmos a funcao.\n",
    "prob_mate = 1\n",
    "###metade = float(descendente_size)/2\n",
    "#for i in range(int(metade)):\n",
    "#print(genotipos)\n",
    "###avaliacao\n",
    "#print(decode(genotipos,comprimento_string))\n",
    "funcao =fitness(decode(genotipos,comprimento_string))\n",
    "#print(funcao)\n",
    "\n",
    "for geracao in range(geracoes):    \n",
    "    a=ss.rankdata(funcao)###ranking\n",
    "    b = a.tolist()\n",
    "    array_offset = np.empty(populacao)\n",
    "    array_offset.fill(populacao)\n",
    "    rank = array_offset-b\n",
    "    #print(rank)\n",
    "    ###select parents\n",
    "    p_lin = []\n",
    "    for i in range(populacao):\n",
    "        p_lin.append(prob_linear(rank[i],2,populacao))\n",
    "    #print(p_lin)\n",
    "    cumulativo = np.cumsum(p_lin)\n",
    "    #print(cumulativo)\n",
    "    ###testar ate achar os parentes\n",
    "    for i in range(mate_size):\n",
    "        r = np.random.random()\n",
    "        j = 0\n",
    "        while(cumulativo[j]<r):###roulette wheel\n",
    "            j = j+1\n",
    "        #for j in range(len(cumulativo)):\n",
    "            #if(r < cumulativo[j]):\n",
    "        #print(j)\n",
    "        for k in range(comprimento_string):\n",
    "            int_gene = genotipos[j][k]\n",
    "\n",
    "            mate_pool[i][k] = int(int_gene)\n",
    "    for i in range(0,descendente_size,2):\n",
    "        #print(i)\n",
    "        r = np.random.random()\n",
    "        #print(r)\n",
    "        if(r < prob_mate):###recombinação\n",
    "            #def crossover(mate(n),mate(n+1):\n",
    "            sep_index = np.random.randint(comprimento_string) ###recombination one-point crossover with probability pc = 0.7\n",
    "            #print(sep_index)\n",
    "            for c1 in range(sep_index):\n",
    "                descendentes[i][c1] = mate_pool[i][c1]\n",
    "                descendentes[i+1][c1] = mate_pool[i+1][c1]\n",
    "                #descendentes[i+metade][c1] = mate_pool[i+metade][c1]\n",
    "            for c2 in range(sep_index,comprimento_string,1):\n",
    "                descendentes[i][c2] = mate_pool[i+1][c2]\n",
    "                descendentes[i+1][c2] = mate_pool[i][c2]\n",
    "        else:\n",
    "            for j in range(comprimento_string):\n",
    "                descendentes[i][j] = mate_pool[i][j]\n",
    "                descendentes[i+1][j] = mate_pool[i+1][j]\n",
    "    ###strict generational (no elitism)            \n",
    "    genotipos = mutation(descendentes) ###mutation bit-flip with probability pm = 1/L\n",
    "        #print(descendentes)\n",
    "        #genotipos = descendentes\n",
    "    funcao =fitness(decode(genotipos,comprimento_string))\n",
    "    print(\"Rodada: \"+str(geracao+1))\n",
    "    print(\"Min: \"+str(min(funcao))+\", Mean: \"+str(np.mean(funcao))+\", Max: \"+str(max(funcao)))\n",
    "    print(funcao)\n",
    "    #print(np.mean(funcao))\n",
    "    #print(min(funcao))\n"
   ]
  },
  {
   "cell_type": "markdown",
   "metadata": {},
   "source": [
    "Para resolução do problema proposto foi utilizada uma população igual a 50, representação binária com 16 bits, inicialização aleatória,  seleção feita por geração, sem elitismo. Foi utilizado modelo de ranking, para seleção de pais, com probabilidade de seleção com decaimento linear.A amostragem foi feita através do algoritmo Roulette wheel. Para recombinação foi utilizado o método de one-point crossover, com probabilidade de crossover = 1 e a mutação foi feita com probabilidade 1/16 de cada bit ser invertido. Em 5 gerações foi possível a aproximação do mínimo global (-0.3), obtendo-se o valor de -0.2982. Tal valor foi alcançado como mínimo da população a partir da terceira geração, tendo-se obtido, após a primeira geração, o valor de (-0.17), aproximadamente. A variação da média da população caiu de 0.81, após a primeira geração, para -0.15, após a quinta, e, portanto, empiricamente, a população se direcionou, em média, ao mínimo global ao passar das gerações."
   ]
  },
  {
   "cell_type": "markdown",
   "metadata": {},
   "source": [
    "## 2"
   ]
  },
  {
   "cell_type": "code",
   "execution_count": 418,
   "metadata": {
    "collapsed": false
   },
   "outputs": [],
   "source": [
    "def decode_onemax(string):\n",
    "    fenotipos=[]\n",
    "    row,column = string.shape\n",
    "    for r in range(row):\n",
    "        total = 0\n",
    "        for c in range(column):\n",
    "            total = total + string[r][c]\n",
    "        fenotipos.append(total)\n",
    "    return fenotipos  \n",
    "def fps(fenotipos):\n",
    "    fitness_proportional = []\n",
    "    for i in range(len(fenotipos)):\n",
    "        fitness_proportional.append(float(fenotipos[i])/float(sum(fenotipos)))\n",
    "    return fitness_proportional"
   ]
  },
  {
   "cell_type": "code",
   "execution_count": 450,
   "metadata": {
    "collapsed": false
   },
   "outputs": [
    {
     "name": "stderr",
     "output_type": "stream",
     "text": [
      "/Users/carloseduardocovascosta/anaconda/envs/py36/lib/python3.6/site-packages/ipykernel/__main__.py:28: VisibleDeprecationWarning: using a non-integer number instead of an integer will result in an error in the future\n",
      "/Users/carloseduardocovascosta/anaconda/envs/py36/lib/python3.6/site-packages/ipykernel/__main__.py:29: VisibleDeprecationWarning: using a non-integer number instead of an integer will result in an error in the future\n",
      "/Users/carloseduardocovascosta/anaconda/envs/py36/lib/python3.6/site-packages/ipykernel/__main__.py:31: VisibleDeprecationWarning: using a non-integer number instead of an integer will result in an error in the future\n"
     ]
    }
   ],
   "source": [
    "###inicializacao\n",
    "geracoes = 100 ###100 generation or optimum value\n",
    "populacao = 100 ###population size = 100\n",
    "comprimento_string = 25 ###representation L=25\n",
    "inicializacao = np.random.randint(0,2,size=(populacao, comprimento_string)) ###initialisation:random\n",
    "genotipos = inicializacao ###strict generational (no elitism)\n",
    "mate_size = populacao ###geracional\n",
    "descendente_size = populacao ###geracional\n",
    "descendentes = np.random.randint(0,1,size=(descendente_size,comprimento_string))\n",
    "mate_pool = np.random.randint(0,1,size=(mate_size,comprimento_string))\n",
    "prob_mate = 0.7\n",
    "###avaliacao\n",
    "funcao = decode_onemax(genotipos)\n",
    "contador_geracoes = 0\n",
    "best = []\n",
    "worst = []\n",
    "mean = []\n",
    "time = []\n",
    "while(contador_geracoes < geracoes and max(funcao) != 25):\n",
    "#for i in range(geracoes):\n",
    "    #print(contador_geracoes)\n",
    "    fitness_propostional = fps(decode_onemax(genotipos)) ###parent selection\n",
    "    cumulativo = np.cumsum(fitness_propostional)\n",
    "    ###testar ate achar os parentes\n",
    "    for i in range(mate_size):###roulette wheel\n",
    "        r = np.random.random()\n",
    "        j = 0\n",
    "        while(cumulativo[j]<r):\n",
    "            j = j+1\n",
    "        for k in range(comprimento_string):\n",
    "            int_gene = genotipos[j][k]\n",
    "            mate_pool[i][k] = int(int_gene)\n",
    "    for i in range(0,descendente_size,2):\n",
    "        r = np.random.random()\n",
    "        if(r < prob_mate): ###recombination one-point crossover with probability pc = 0.7\n",
    "            sep_index = np.random.randint(comprimento_string)\n",
    "            for c1 in range(sep_index):\n",
    "                descendentes[i][c1] = mate_pool[i][c1]\n",
    "                descendentes[i+1][c1] = mate_pool[i+1][c1]\n",
    "            for c2 in range(sep_index,comprimento_string,1):\n",
    "                descendentes[i][c2] = mate_pool[i+1][c2]\n",
    "                descendentes[i+1][c2] = mate_pool[i][c2]\n",
    "        else:\n",
    "            for j in range(comprimento_string):\n",
    "                descendentes[i][j] = mate_pool[i][j]\n",
    "                descendentes[i+1][j] = mate_pool[i+1][j]\n",
    "    ###strict generational (no elitism)            \n",
    "    genotipos = mutation(descendentes) ###mutation bit-flip with probability pm = 1/L\n",
    "    funcao = decode_onemax(genotipos)\n",
    "    #print(max(funcao))\n",
    "    best.append(max(funcao))\n",
    "    worst.append(min(funcao))\n",
    "    mean.append(np.mean(funcao))\n",
    "    time.append(contador_geracoes)\n",
    "    contador_geracoes = contador_geracoes + 1\n",
    "    \n",
    "#plt.plot(time,best)\n",
    "#plt.plot(time,worst)\n",
    "#plt.plot(time,mean)\n",
    "#plt.show()\n",
    "        "
   ]
  },
  {
   "cell_type": "code",
   "execution_count": 456,
   "metadata": {
    "collapsed": false
   },
   "outputs": [
    {
     "data": {
      "image/png": "[encoded data removed]",
      "text/plain": [
       "<matplotlib.figure.Figure at 0x10fa514e0>"
      ]
     },
     "metadata": {},
     "output_type": "display_data"
    }
   ],
   "source": [
    "plt.plot(time,best)\n",
    "plt.legend(\"Best\")\n",
    "#plt.plot(time,worst)\n",
    "#plt.plot(time,mean)\n",
    "plt.show()"
   ]
  },
  {
   "cell_type": "code",
   "execution_count": 457,
   "metadata": {
    "collapsed": false
   },
   "outputs": [
    {
     "data": {
      "image/png": "[encoded data removed]",
      "text/plain": [
       "<matplotlib.figure.Figure at 0x10fc12128>"
      ]
     },
     "metadata": {},
     "output_type": "display_data"
    }
   ],
   "source": [
    "plt.plot(time,worst)\n",
    "plt.legend(\"Worst\")\n",
    "plt.show()"
   ]
  },
  {
   "cell_type": "code",
   "execution_count": 458,
   "metadata": {
    "collapsed": false
   },
   "outputs": [
    {
     "data": {
      "image/png": "[encoded data removed]",
      "text/plain": [
       "<matplotlib.figure.Figure at 0x10fcf2358>"
      ]
     },
     "metadata": {},
     "output_type": "display_data"
    }
   ],
   "source": [
    "plt.plot(time,mean)\n",
    "plt.legend(\"Mean\")\n",
    "plt.show()"
   ]
  },
  {
   "cell_type": "code",
   "execution_count": 467,
   "metadata": {
    "collapsed": false
   },
   "outputs": [
    {
     "name": "stderr",
     "output_type": "stream",
     "text": [
      "/Users/carloseduardocovascosta/anaconda/envs/py36/lib/python3.6/site-packages/ipykernel/__main__.py:28: VisibleDeprecationWarning: using a non-integer number instead of an integer will result in an error in the future\n",
      "/Users/carloseduardocovascosta/anaconda/envs/py36/lib/python3.6/site-packages/ipykernel/__main__.py:31: VisibleDeprecationWarning: using a non-integer number instead of an integer will result in an error in the future\n",
      "/Users/carloseduardocovascosta/anaconda/envs/py36/lib/python3.6/site-packages/ipykernel/__main__.py:29: VisibleDeprecationWarning: using a non-integer number instead of an integer will result in an error in the future\n"
     ]
    },
    {
     "name": "stdout",
     "output_type": "stream",
     "text": [
      "38\n",
      "27\n",
      "61\n",
      "39\n",
      "100\n",
      "32\n",
      "27\n",
      "51\n",
      "39\n",
      "61\n"
     ]
    }
   ],
   "source": [
    "time = []\n",
    "for i in range(10):\n",
    "    ###inicializacao\n",
    "    geracoes = 100 ###100 generation or optimum value\n",
    "    populacao = 100 ###population size = 100\n",
    "    comprimento_string = 25 ###representation L=25\n",
    "    inicializacao = np.random.randint(0,2,size=(populacao, comprimento_string)) ###initialisation:random\n",
    "    genotipos = inicializacao ###strict generational (no elitism)\n",
    "    mate_size = populacao ###geracional\n",
    "    descendente_size = populacao ###geracional\n",
    "    descendentes = np.random.randint(0,1,size=(descendente_size,comprimento_string))\n",
    "    mate_pool = np.random.randint(0,1,size=(mate_size,comprimento_string))\n",
    "    prob_mate = 0.7\n",
    "    ###avaliacao\n",
    "    funcao = decode_onemax(genotipos)\n",
    "    contador_geracoes = 0\n",
    "    while(contador_geracoes < geracoes and max(funcao) != 25):\n",
    "    #for i in range(geracoes):\n",
    "        #print(contador_geracoes)\n",
    "        fitness_propostional = fps(decode_onemax(genotipos)) ###parent selection\n",
    "        cumulativo = np.cumsum(fitness_propostional)\n",
    "        ###testar ate achar os parentes\n",
    "        for i in range(mate_size):###roulette wheel\n",
    "            r = np.random.random()\n",
    "            j = 0\n",
    "            while(cumulativo[j]<r):\n",
    "                j = j+1\n",
    "            for k in range(comprimento_string):\n",
    "                int_gene = genotipos[j][k]\n",
    "                mate_pool[i][k] = int(int_gene)\n",
    "        for i in range(0,descendente_size,2):\n",
    "            r = np.random.random()\n",
    "            if(r < prob_mate): ###recombination one-point crossover with probability pc = 0.7\n",
    "                sep_index = np.random.randint(comprimento_string)\n",
    "                for c1 in range(sep_index):\n",
    "                    descendentes[i][c1] = mate_pool[i][c1]\n",
    "                    descendentes[i+1][c1] = mate_pool[i+1][c1]\n",
    "                for c2 in range(sep_index,comprimento_string,1):\n",
    "                    descendentes[i][c2] = mate_pool[i+1][c2]\n",
    "                    descendentes[i+1][c2] = mate_pool[i][c2]\n",
    "            else:\n",
    "                for j in range(comprimento_string):\n",
    "                    descendentes[i][j] = mate_pool[i][j]\n",
    "                    descendentes[i+1][j] = mate_pool[i+1][j]\n",
    "        ###strict generational (no elitism)            \n",
    "        genotipos = mutation(descendentes) ###mutation bit-flip with probability pm = 1/L\n",
    "        funcao = decode_onemax(genotipos)\n",
    "        contador_geracoes = contador_geracoes + 1\n",
    "    print(contador_geracoes)\n",
    "    time.append(contador_geracoes)"
   ]
  },
  {
   "cell_type": "code",
   "execution_count": 468,
   "metadata": {
    "collapsed": false
   },
   "outputs": [
    {
     "data": {
      "text/plain": [
       "[38, 27, 61, 39, 100, 32, 27, 51, 39, 61]"
      ]
     },
     "execution_count": 468,
     "metadata": {},
     "output_type": "execute_result"
    }
   ],
   "source": [
    "time"
   ]
  },
  {
   "cell_type": "code",
   "execution_count": 470,
   "metadata": {
    "collapsed": false
   },
   "outputs": [
    {
     "name": "stdout",
     "output_type": "stream",
     "text": [
      "Mean: 47.5 Standard Deviation: 21.0914674691\n"
     ]
    }
   ],
   "source": [
    "print(\"Mean: \"+str(np.mean(time))+\" Standard Deviation: \"+str(np.std(time)))"
   ]
  },
  {
   "cell_type": "markdown",
   "metadata": {},
   "source": [
    "# 3"
   ]
  },
  {
   "cell_type": "code",
   "execution_count": 2,
   "metadata": {
    "collapsed": false
   },
   "outputs": [],
   "source": [
    "def ackley(x):\n",
    "    j = []\n",
    "    row,column = x.shape\n",
    "    n = column\n",
    "    for r in range(row):\n",
    "        somatorio1 = 0\n",
    "        somatorio2 = 0\n",
    "        for c in range(column):\n",
    "            somatorio1 += x[r][c]**2\n",
    "            somatorio2 += math.cos(2*math.pi*x[r][c])\n",
    "        jr = -20*math.exp(-0.2*math.sqrt(somatorio1/n)) - math.exp(somatorio2/n) + 20 + math.exp(1)\n",
    "        j.append(jr)\n",
    "    return j"
   ]
  },
  {
   "cell_type": "code",
   "execution_count": 43,
   "metadata": {
    "collapsed": true
   },
   "outputs": [],
   "source": [
    "def mutation(x,sigma,epsilon):\n",
    "    row,column = x.shape\n",
    "    n = column\n",
    "    tau_linha = float(1/math.sqrt(2*n))\n",
    "    tau = float(1/math.sqrt(2*math.sqrt(n)))    \n",
    "    x_linha = np.random.uniform(0,1,size=(row,column))    \n",
    "    sigma_linha = np.random.uniform(0,1,size=(row,column))\n",
    "    for r in range(row):\n",
    "        normal = np.random.normal(0,1)\n",
    "        for c in range(column):\n",
    "            normal_i = np.random.normal(0,1)\n",
    "            sigma_linha[r][c] = sigma[r][c]*math.exp((tau_linha*normal+tau*normal_i))\n",
    "            if(sigma_linha[r][c] < epsilon):\n",
    "                sigma_linha[r][c] = epsilon\n",
    "            x_linha[r][c] = x[r][c] + sigma_linha[r][c]*normal_i\n",
    "            if(x_linha[r][c] > 30):\n",
    "                x_linha[r][c] = 30\n",
    "            elif(x_linha[r][c] < -30):\n",
    "                x_linha[r][c] = -30\n",
    "    return x_linha,sigma_linha"
   ]
  },
  {
   "cell_type": "code",
   "execution_count": 44,
   "metadata": {
    "collapsed": true
   },
   "outputs": [],
   "source": [
    "def sigma_update_rule(ps,sigma,c): ###paper antigo, não será utilizado neste exerício\n",
    "    if(ps > 0.2):\n",
    "        sig = float(sig/c)\n",
    "    elif(ps< 0.2):\n",
    "        sig = sig*c\n",
    "    else:\n",
    "        sig = sig\n",
    "    return sig\n",
    "    "
   ]
  },
  {
   "cell_type": "code",
   "execution_count": 45,
   "metadata": {
    "collapsed": true
   },
   "outputs": [],
   "source": [
    "def initialise(n,populacao):\n",
    "    x = np.random.uniform(0,1,size=(populacao,n))\n",
    "    row,column = x.shape\n",
    "    for r in range(row):\n",
    "        for c in range(column):\n",
    "            x[r][c] = np.random.uniform(-30,30)\n",
    "    return x"
   ]
  },
  {
   "cell_type": "code",
   "execution_count": 46,
   "metadata": {
    "collapsed": true
   },
   "outputs": [],
   "source": [
    "def initialise_sigma(nsigma,populacao):\n",
    "    x = np.random.uniform(0,1,size=(populacao,nsigma))\n",
    "    row,column = x.shape\n",
    "    for r in range(row):\n",
    "        for c in range(column):\n",
    "            x[r][c] = np.random.uniform(0,1)\n",
    "    return x"
   ]
  },
  {
   "cell_type": "code",
   "execution_count": 49,
   "metadata": {
    "collapsed": false
   },
   "outputs": [
    {
     "name": "stdout",
     "output_type": "stream",
     "text": [
      "('jmin', [0.012107940454996413, 0.03635476501756019, 0.0008379653151568967, 0.023137661793108055, 0.02634649892492691, 0.01677180203688211, 0.005904974553410103, 0.021762724558823, 0.006708947131500498, 0.0077376436265557125, 0.008574915179860643, 0.0005405597660907979, 0.6101298178539563, 0.0024868615197779498, 0.00477826585186536, 0.007954248182070689, 0.008198604356387751, 0.008568163799797635, 0.004687156385138724, 0.0038961370116123994, 0.002833203546789509, 0.010843817386707588, 0.040755278502523584, 0.003356263833009354, 0.003827542635360448, 0.06702603030230891, 0.004247865293241393, 0.0025105541304069057, 0.002984050074378519, 0.0019930403915080497, 0.05990529595858307, 0.018217600319986094, 0.0012591551648815091, 0.2530540016715972, 0.03183750997603285, 0.012226480527669725, 0.00724723233127067, 0.005986092556832023, 0.0037475868189074113, 0.008605941631075087, 0.000665904408880369, 0.021615510725233822, 0.0713954600524791, 0.002594601912552452, 0.0028872707719185264, 0.025451333188148073, 0.044123680912968144, 0.0062433785365141325, 0.022410760805279484, 0.023158153935519454, 0.010378057395513896, 0.0024387734321718035, 0.0032815172410960436, 0.02619417396250201, 0.0029161865060918224, 0.0020926093289124204, 0.9313179178188702, 4.048585840143566, 0.013883215877360744, 0.006762604759892543, 0.0033940039861311, 0.011534644119944648, 0.02327567049805568, 0.13536817846996074, 0.002735854388629111, 0.015523672634359276, 0.0016577213115422929, 0.07155453594473515, 0.3636028206047013, 0.002861329241178101, 0.011129044316302572, 0.0046136978570463505, 0.041915353966004876, 0.0033416054312671584, 0.024795683646744227, 5.454262067835856, 0.007671755298674032, 0.006973634910874882, 0.0034675462983497773, 0.03112963591394946, 0.015796552889494553, 0.004404980998128583, 0.013722405255518044, 0.002649858757216794, 0.008231440431594184, 0.00645974661204507, 0.032828663992273466, 0.04436439706163542, 1.2082710284667049, 0.0006651415820440043, 0.028825529320340326, 0.022829808062010404, 0.013028369726804545, 0.002885185959315084, 0.5444298236249172, 0.2947812393489042, 0.0024211770362794205, 0.48143830051044434, 0.010002770700069608, 0.008820371277611816])\n"
     ]
    }
   ],
   "source": [
    "rodadas = 100\n",
    "geracoes = 1000\n",
    "n = 30 #numero de dimensoes\n",
    "nsigma = n\n",
    "populacao = 30\n",
    "mi = populacao\n",
    "descendente_size = 200\n",
    "epsilon = 10**(-8)\n",
    "#parametro_c = 0.85\n",
    "descendentes = np.random.uniform(0,1,size=(descendente_size,n))\n",
    "descendentes_sigma = np.random.uniform(0,1,size=(descendente_size,nsigma))\n",
    "xmin = []\n",
    "jmin = []\n",
    "\n",
    "for rodada in range(rodadas):\n",
    "    j =[]\n",
    "    x = initialise(n,populacao)\n",
    "    sigma = initialise_sigma(nsigma,populacao)\n",
    "    funcao = ackley(x)\n",
    "    j.extend(funcao)\n",
    "    #print(funcao)\n",
    "    for k in range(geracoes):\n",
    "        #print(k)\n",
    "        #print(sigma)\n",
    "        x,sigma = mutation(x,sigma,epsilon) #uncorrelated mutation with n step sizes\n",
    "        #print('depois',sigma)\n",
    "        for descendente in range(descendente_size):\n",
    "            sort_combination = np.random.randint(len(list(itertools.combinations(range(populacao), 2))))\n",
    "            pai1, pai2 = list(itertools.combinations(range(populacao), 2))[sort_combination] #sorteia dois pais aleatoriamente com probabilidade unfiforme dentre todas as combinacoes possíveis\n",
    "            for dimensao in range(n): \n",
    "                if(np.random.uniform(0,1) < 0.5): #discrete recombination\n",
    "                    pai = pai1\n",
    "                else:\n",
    "                    pai = pai2\n",
    "                descendentes[descendente][dimensao] = x[pai][dimensao] \n",
    "                descendentes_sigma[descendente][dimensao] = float(sigma[pai1][dimensao] + sigma[pai2][dimensao])/2 #global intermediate recombination\n",
    "        funcao = ackley(descendentes)\n",
    "        #j.extend(funcao) #adiciona valores da funcao\n",
    "        indexes = [i[0] for i in sorted(enumerate(funcao), key=lambda x:x[1])][:populacao] #retorna os index dos 30 menores valores em ordem\n",
    "        i = 0\n",
    "        for index in indexes: #atualiza a populacao com os descendentes que apresentaram os menores valores\n",
    "            for dimensao in range(n):\n",
    "                x[i][dimensao] = descendentes[index][dimensao]\n",
    "                sigma[i][dimensao] = descendentes_sigma[index][dimensao]\n",
    "            i = i+1\n",
    "        funcao = ackley(x) #adiciona valores da funcao\n",
    "        j.extend(funcao)\n",
    "        #print(min(funcao))\n",
    "    jmin.append(min(j))\n",
    "#print('x',x)\n",
    "#print('sigma',sigma)\n",
    "#print('funcao',funcao)\n",
    "#print('J',j)\n",
    "print('jmin',jmin)\n",
    "\n",
    "        "
   ]
  },
  {
   "cell_type": "code",
   "execution_count": 55,
   "metadata": {
    "collapsed": false
   },
   "outputs": [
    {
     "name": "stdout",
     "output_type": "stream",
     "text": [
      "Min: 0.000540559766091 Mean: 0.155960123964 Standard Deviation: 0.687587945796\n"
     ]
    }
   ],
   "source": [
    "print(\"Min: \"+str(min(jmin))+\" Mean: \"+str(np.mean(jmin))+\" Standard Deviation: \"+str(np.std(jmin)))"
   ]
  }
 ],
 "metadata": {
  "anaconda-cloud": {},
  "kernelspec": {
   "display_name": "Python [conda root]",
   "language": "python",
   "name": "conda-root-py"
  },
  "language_info": {
   "codemirror_mode": {
    "name": "ipython",
    "version": 2
   },
   "file_extension": ".py",
   "mimetype": "text/x-python",
   "name": "python",
   "nbconvert_exporter": "python",
   "pygments_lexer": "ipython2",
   "version": "2.7.12"
  }
 },
 "nbformat": 4,
 "nbformat_minor": 2
}
