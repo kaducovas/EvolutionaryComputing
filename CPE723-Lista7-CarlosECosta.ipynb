{
 "cells": [
  {
   "cell_type": "markdown",
   "metadata": {},
   "source": [
    "# UFRJ / COPPE / Programa de Engenharia Eletrica\n",
    "# CPE-723 – Otimizacao Natural (Parte II - Simulated Annealing)\n",
    "# Lista de Exercicios #7\n",
    "# Carlos Eduardo Covas Costa"
   ]
  },
  {
   "cell_type": "markdown",
   "metadata": {},
   "source": [
    "### 1)\n",
    "Explique como o desempenho do algoritmo genético simples utilizado no Exercício 1 da Lista de Exercicios #4\n",
    "pode ser melhorado através da utilização de métodos de algoritmos meméticos"
   ]
  },
  {
   "cell_type": "markdown",
   "metadata": {},
   "source": [
    "No exercício em questão, foi utilizado um algoritmo genético simples (SGA) para minimização da função y(x) = x^2 − 0.3 cos(10πx) no intervalo x pertencente a[-2,+2]. Com o objetivo de melhorar a performance deste algoritmo, métodos de algoritmos meméticos podem ser usados de diversas maneiras com a adição de uma ou mais fases de busca local ou de informação específica do problema. Uma forma de melhorar o desempenho do SGA é inicializá-lo de forma inteligente. Para isto, pode-se inserir uma etapa de busca local antes de constituir a população inicial afim de direcionar a busca em uma região do espaço de busca que contenha boas soluções ou iniciar a população com indivíduos considerados como boas soluções advindas de outros algoritmos. Entretanto, é necessário lembrar a necessidade de manter uma boa diversidade para evitar que o algoritmo termine logo em um mínimo local. Além disso, é possível também utilizar busca local afim de melhorar a saída dos operadores de variação, desta forma uma busca local pode ser utilizada após a recombinação ou a após a mutação em um indivíduo ou em todos os indivíduos da população. Por exemplo, pode-se aplicar uma variação de um bit, do mais significativo para o menos significativo, após a mutação, e calcular a função de aptidão, aceitando o primeiro valor retornado que se apresentar melhor que a saída da mutação (greedy search) ou percorrendo a string inteira e escolhendo para ser modificado o bit que, considerando a inversão, apresentar o melhor resultado da função (steepest descent). Tal etapa de busca local também pode ser acrescentada ao final da geração, caso o valor mínimo global esperado não tenha sido encontrado ainda. A utilização de conhecimento sobre pontos que já foram chegados no espaço de busca também pode ser utilizado, como no caso da busca tabu (tabu search), na qual uma lista de soluções já visitadas é constituída de maneira que o algoritmo não retorna a estes pontos. O algoritmo de metrópolis também pode ser utilizado como busca local afim de proporcionar uma melhora no desempenho desta SGA.\n",
    "\n",
    "Após a utilização de tais métodos de busca, seja na inicialização, seja após a execução dos operadores de variação, tal função que é composta pos 'bacias' com mínimos locais terá um efeito de discretização, já que os indíviduos se concentrarão nos mínimos locais. Com isso o espaço de busca diminuirá e o algortimo terá uma convergência mais rápida. "
   ]
  },
  {
   "cell_type": "markdown",
   "metadata": {},
   "source": [
    "### 2)\n",
    "Comente sobre as variáveis presentes na Equação (11.1) do livro-texto, descrevendo sucintamente os seus\n",
    "significados e a sua variação entre uma geração e a geração seguinte."
   ]
  },
  {
   "cell_type": "markdown",
   "metadata": {},
   "source": [
    "m(H, t+1) >= m(H,t). f(H)/< f > . [1 - (pc . d(H)/(l-1))] . [1 - pm.o(H)]"
   ]
  },
  {
   "cell_type": "markdown",
   "metadata": {},
   "source": [
    "A equação 11.1 representa o chamado Schema Theorem ou Teorema fundamental dos algoritmos genéticos, proposto por John Holland. Nesta equação, m(H,t) representa a proporção de strings (indivíduos) pertencentes ao schema H na geração t; f(H) representa a aptidão do schema H, que é calculada como a média das aptidões dos indivíduos que são exemplos de H (entende-se por exemplo ou instância de H as strings pertencentes ao schema H), ao passo que < f > refere-se a média das aptidões de todos os indivíduos da população. pc representa a probabilidade de ocorrer crossover enquanto Pd(H,1X) = d(H)/(l-1) refere-se à probabilidade da ação de um crossover em um instância do schema H venha a destruí-lo, sendo tal probabilidade composta pela divisão do comprimento definido (defining length), distância entre as posições definidas mais extremas, pelo comprimento da string descrescido de 1. Sendo assim, o termo (pc.d(H)/(l-1)) representa a probabilidade do crossover ocorrer e dele ser disruptivo. O termo pm representa a probabilidade de mutaçãode um bit, calculada bit a bit, enquanto o(H) representa a ordem do schema, que o número de posições definidas ou o número de posições que não possuem o dont'care #. Segundo este teorema, esquemas curtos e de baixa ordem com aptidão acima da média aumentam seu número de instâncias na população em sucessivas gerações.    "
   ]
  }
 ],
 "metadata": {
  "kernelspec": {
   "display_name": "Python [conda env:py36]",
   "language": "python",
   "name": "conda-env-py36-py"
  },
  "language_info": {
   "codemirror_mode": {
    "name": "ipython",
    "version": 3
   },
   "file_extension": ".py",
   "mimetype": "text/x-python",
   "name": "python",
   "nbconvert_exporter": "python",
   "pygments_lexer": "ipython3",
   "version": "3.6.1"
  }
 },
 "nbformat": 4,
 "nbformat_minor": 2
}
